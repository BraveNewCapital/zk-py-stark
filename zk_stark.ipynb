{
  "nbformat": 4,
  "nbformat_minor": 0,
  "metadata": {
    "colab": {
      "provenance": [],
      "include_colab_link": true
    },
    "kernelspec": {
      "name": "python3",
      "display_name": "Python 3"
    },
    "language_info": {
      "name": "python"
    }
  },
  "cells": [
    {
      "cell_type": "markdown",
      "metadata": {
        "id": "view-in-github",
        "colab_type": "text"
      },
      "source": [
        "<a href=\"https://colab.research.google.com/github/BraveNewCapital/zk-py-stark/blob/master/zk_stark.ipynb\" target=\"_parent\"><img src=\"https://colab.research.google.com/assets/colab-badge.svg\" alt=\"Open In Colab\"/></a>"
      ]
    },
    {
      "cell_type": "code",
      "source": [
        "!pip install algebra"
      ],
      "metadata": {
        "id": "G5xLyJxGQHyo",
        "outputId": "63e3b5f5-0483-4876-e760-65f078c6bb2f",
        "colab": {
          "base_uri": "https://localhost:8080/"
        }
      },
      "execution_count": 8,
      "outputs": [
        {
          "output_type": "stream",
          "name": "stdout",
          "text": [
            "Looking in indexes: https://pypi.org/simple, https://us-python.pkg.dev/colab-wheels/public/simple/\n",
            "Collecting algebra\n",
            "  Downloading algebra-1.2.1.tar.gz (19 kB)\n",
            "  Installing build dependencies ... \u001b[?25l\u001b[?25hdone\n",
            "  Getting requirements to build wheel ... \u001b[?25l\u001b[?25hdone\n",
            "  Preparing metadata (pyproject.toml) ... \u001b[?25l\u001b[?25hdone\n",
            "Requirement already satisfied: numpy>=1.16 in /usr/local/lib/python3.10/dist-packages (from algebra) (1.22.4)\n",
            "Collecting plum-dispatch>=1 (from algebra)\n",
            "  Downloading plum_dispatch-2.1.0-py3-none-any.whl (28 kB)\n",
            "Collecting backends>=1 (from algebra)\n",
            "  Downloading backends-1.5.4.tar.gz (81 kB)\n",
            "\u001b[2K     \u001b[90m━━━━━━━━━━━━━━━━━━━━━━━━━━━━━━━━━━━━━━━\u001b[0m \u001b[32m81.2/81.2 kB\u001b[0m \u001b[31m731.5 kB/s\u001b[0m eta \u001b[36m0:00:00\u001b[0m\n",
            "\u001b[?25h  Installing build dependencies ... \u001b[?25l\u001b[?25hdone\n",
            "  Getting requirements to build wheel ... \u001b[?25l\u001b[?25hdone\n",
            "  Preparing metadata (pyproject.toml) ... \u001b[?25l\u001b[?25hdone\n",
            "Requirement already satisfied: scipy>=1.3 in /usr/local/lib/python3.10/dist-packages (from backends>=1->algebra) (1.10.1)\n",
            "Collecting fdm (from backends>=1->algebra)\n",
            "  Downloading fdm-0.4.1.tar.gz (11 kB)\n",
            "  Installing build dependencies ... \u001b[?25l\u001b[?25hdone\n",
            "  Getting requirements to build wheel ... \u001b[?25l\u001b[?25hdone\n",
            "  Preparing metadata (pyproject.toml) ... \u001b[?25l\u001b[?25hdone\n",
            "Requirement already satisfied: opt-einsum in /usr/local/lib/python3.10/dist-packages (from backends>=1->algebra) (3.3.0)\n",
            "Collecting beartype (from plum-dispatch>=1->algebra)\n",
            "  Downloading beartype-0.14.0-py3-none-any.whl (720 kB)\n",
            "\u001b[2K     \u001b[90m━━━━━━━━━━━━━━━━━━━━━━━━━━━━━━━━━━━━━━\u001b[0m \u001b[32m720.2/720.2 kB\u001b[0m \u001b[31m18.4 MB/s\u001b[0m eta \u001b[36m0:00:00\u001b[0m\n",
            "\u001b[?25hRequirement already satisfied: sympy in /usr/local/lib/python3.10/dist-packages (from fdm->backends>=1->algebra) (1.11.1)\n",
            "Requirement already satisfied: mpmath>=0.19 in /usr/local/lib/python3.10/dist-packages (from sympy->fdm->backends>=1->algebra) (1.3.0)\n",
            "Building wheels for collected packages: algebra, backends, fdm\n",
            "  Building wheel for algebra (pyproject.toml) ... \u001b[?25l\u001b[?25hdone\n",
            "  Created wheel for algebra: filename=algebra-1.2.1-py3-none-any.whl size=20841 sha256=c4ef7d9bd7e64eb2333705c8838808c5513bf62cc513f91159aa85955690fcfe\n",
            "  Stored in directory: /root/.cache/pip/wheels/76/a0/ac/f6497a8efda0b8f3be2ecace9aba7dca1a1aa552590aedd79e\n",
            "  Building wheel for backends (pyproject.toml) ... \u001b[?25l\u001b[?25hdone\n",
            "  Created wheel for backends: filename=backends-1.5.4-cp310-cp310-linux_x86_64.whl size=476758 sha256=51b4a0be312124a332acfa89570722828f956408a0a815c95b48a8ff2dc89f02\n",
            "  Stored in directory: /root/.cache/pip/wheels/33/23/77/452f66ebebfbc2c743134c58d35179c39a1502bb781a64f73a\n",
            "  Building wheel for fdm (pyproject.toml) ... \u001b[?25l\u001b[?25hdone\n",
            "  Created wheel for fdm: filename=fdm-0.4.1-py3-none-any.whl size=13152 sha256=d7ca8838703a697ceab38d3e834c46ad20bf5b33d0e5c0f02f2048b9edfe0fbe\n",
            "  Stored in directory: /root/.cache/pip/wheels/df/f6/18/ad25da5a35376de7915a313f16f430bdf4a241013ec13fa021\n",
            "Successfully built algebra backends fdm\n",
            "Installing collected packages: beartype, plum-dispatch, fdm, backends, algebra\n",
            "Successfully installed algebra-1.2.1 backends-1.5.4 beartype-0.14.0 fdm-0.4.1 plum-dispatch-2.1.0\n"
          ]
        }
      ]
    },
    {
      "cell_type": "markdown",
      "source": [
        "Finite fields are ubiquitous throughout cryptography because they are natively compatible with computers. For instance, they cannot generate overflow or underflow errors, and their elements have a finite representation in terms of bits.\n",
        "\n",
        "The easiest way to build a finite field is to select a prime number p\n",
        ", use the elements Fp△={0,1,…,p−1}, and define the usual addition and multiplication operations in terms of their counterparts for the integers, followed by reduction modulo p. Subtraction is equivalent to addition of the left hand side to the negation of the right hand side, and negation represents multiplication by −1≡p−1modp. Similarly, division is equivalent to multiplication of the left hand side by the multiplicative inverse of the right hand side. This inverse can be found using the extended Euclidean algorithm, which on input two integers x and y, returns their greatest common divisor g along with matching Bezout coefficients a,b such that ax+by=g. Indeed, whenever gcd(x,p)=1 the inverse of x∈Fp is a because ax+bp≡1modp\n",
        "\n",
        ". Powers of field elements can be computed with the square-and-multiply algorithm, which iterates over the bits in the expansion of the exponent, squares an accumulator variable in each iteration, and additionally multiplies it by the base element if the bit is set.\n",
        "\n",
        "For the purpose of building STARKs we need finite fields with a particular structure1: it needs to contain a substructure of order 2k\n",
        "for some sufficiently large k. We consider prime fields whose defining modulus has the form p=f⋅2k+1, where f is some cofactor that makes the number prime. In this case, the group Fp∖{0},× has a subgroup of order 2k. For all intents and purposes, one can identify this subgroup with 2k evenly spaced points on the complex unit circle.\n"
      ],
      "metadata": {
        "id": "6qqUAOfsE9ij"
      }
    },
    {
      "cell_type": "code",
      "execution_count": 2,
      "metadata": {
        "id": "waimXeFeDj-_"
      },
      "outputs": [],
      "source": [
        "# An implementation starts with the extended Euclidean algorithm, for computing multiplicative inverses.\n",
        "\n",
        "def xgcd( x, y ):\n",
        "    old_r, r = (x, y)\n",
        "    old_s, s = (1, 0)\n",
        "    old_t, t = (0, 1)\n",
        "\n",
        "    while r != 0:\n",
        "        quotient = old_r // r\n",
        "        old_r, r = (r, old_r - quotient * r)\n",
        "        old_s, s = (s, old_s - quotient * s)\n",
        "        old_t, t = (t, old_t - quotient * t)\n",
        "\n",
        "    return old_s, old_t, old_r # a, b, g"
      ]
    },
    {
      "cell_type": "markdown",
      "source": [
        "It makes sense to separate the logic concerning the field from the logic concerning the field elements. To this end, the field element contains a field object as a proper field; this field object implements the arithmetic. Furthermore, python supports operator overloading, so we can repurpose natural arithmetic operators to do field arithmetic instead."
      ],
      "metadata": {
        "id": "WaAgvVosFjQH"
      }
    },
    {
      "cell_type": "code",
      "source": [
        "class FieldElement:\n",
        "    def __init__( self, value, field ):\n",
        "        self.value = value\n",
        "        self.field = field\n",
        "\n",
        "    def __add__( self, right ):\n",
        "        return self.field.add(self, right)\n",
        "\n",
        "    def __mul__( self, right ):\n",
        "        return self.field.multiply(self, right)\n",
        "\n",
        "    def __sub__( self, right ):\n",
        "        return self.field.subtract(self, right)\n",
        "\n",
        "    def __truediv__( self, right ):\n",
        "        return self.field.divide(self, right)\n",
        "\n",
        "    def __neg__( self ):\n",
        "        return self.field.negate(self)\n",
        "\n",
        "    def inverse( self ):\n",
        "        return self.field.inverse(self)\n",
        "\n",
        "    # modular exponentiation -- be sure to encapsulate in parentheses!\n",
        "    def __xor__( self, exponent ):\n",
        "        acc = FieldElement(1, self.field)\n",
        "        val = FieldElement(self.value, self.field)\n",
        "        for i in reversed(range(len(bin(exponent)[2:]))):\n",
        "            acc = acc * acc\n",
        "            if (1 << i) & exponent != 0:\n",
        "                acc = acc * val\n",
        "        return acc\n",
        "\n",
        "    def __eq__( self, other ):\n",
        "        return self.value == other.value\n",
        "\n",
        "    def __neq__( self, other ):\n",
        "        return self.value != other.value\n",
        "\n",
        "    def __str__( self ):\n",
        "        return str(self.value)\n",
        "\n",
        "    def __bytes__( self ):\n",
        "        return bytes(str(self).encode())\n",
        "\n",
        "    def is_zero( self ):\n",
        "        if self.value == 0:\n",
        "            return True\n",
        "        else:\n",
        "            return False\n",
        "\n",
        "class Field:\n",
        "    def __init__( self, p ):\n",
        "        self.p = p\n",
        "\n",
        "    def zero( self ):\n",
        "        return FieldElement(0, self)\n",
        "\n",
        "    def one( self ):\n",
        "        return FieldElement(1, self)\n",
        "\n",
        "    def multiply( self, left, right ):\n",
        "        return FieldElement((left.value * right.value) % self.p, self)\n",
        "\n",
        "    def add( self, left, right ):\n",
        "        return FieldElement((left.value + right.value) % self.p, self)\n",
        "\n",
        "    def subtract( self, left, right ):\n",
        "        return FieldElement((self.p + left.value - right.value) % self.p, self)\n",
        "\n",
        "    def negate( self, operand ):\n",
        "        return FieldElement((self.p - operand.value) % self.p, self)\n",
        "\n",
        "    def inverse( self, operand ):\n",
        "        a, b, g = xgcd(operand.value, self.p)\n",
        "        return FieldElement(a, self)\n",
        "\n",
        "    def divide( self, left, right ):\n",
        "        assert(not right.is_zero()), \"divide by zero\"\n",
        "        a, b, g = xgcd(right.value, self.p)\n",
        "        return FieldElement(left.value * a % self.p, self)\n",
        "  \n"
      ],
      "metadata": {
        "id": "Cl7ucX8sFclm"
      },
      "execution_count": 3,
      "outputs": []
    },
    {
      "cell_type": "markdown",
      "source": [
        "Implementing fields generically is nice. However, in this tutorial we will not use any other field than the one with `1+407⋅2119` elements. This field has a sufficiently large subgroup of power-of-two order."
      ],
      "metadata": {
        "id": "8NMOgSoDF5lo"
      }
    },
    {
      "cell_type": "code",
      "source": [
        "    def main():\n",
        "        p = 1 + 407 * ( 1 << 119 ) # 1 + 11 * 37 * 2^119\n",
        "        return Field(p)"
      ],
      "metadata": {
        "id": "5h8sJwhYGBMg"
      },
      "execution_count": 4,
      "outputs": []
    },
    {
      "cell_type": "markdown",
      "source": [
        "Besides ensuring that the subgroup of power-of-two order exists, the code also needs to supply the user with a generator for the entire multiplicative group, as well as the power-of-two subgroups. A generator for such a subgroup of order n will be called a primitive nth root."
      ],
      "metadata": {
        "id": "6WSAPgdLGHFK"
      }
    },
    {
      "cell_type": "code",
      "source": [
        "    def generator( self ):\n",
        "        assert(self.p == 1 + 407 * ( 1 << 119 )), \"Do not know generator for other fields beyond 1+407*2^119\"\n",
        "        return FieldElement(85408008396924667383611388730472331217, self)\n",
        "        \n",
        "    def primitive_nth_root( self, n ):\n",
        "        if self.p == 1 + 407 * ( 1 << 119 ):\n",
        "            assert(n <= 1 << 119 and (n & (n-1)) == 0), \"Field does not have nth root of unity where n > 2^119 or not power of two.\"\n",
        "            root = FieldElement(85408008396924667383611388730472331217, self)\n",
        "            order = 1 << 119\n",
        "            while order != n:\n",
        "                root = root^2\n",
        "                order = order/2\n",
        "            return root\n",
        "        else:\n",
        "            assert(False), \"Unknown field, can't return root of unity.\""
      ],
      "metadata": {
        "id": "uQ0sxaz_Ggyv"
      },
      "execution_count": 5,
      "outputs": []
    },
    {
      "cell_type": "markdown",
      "source": [
        "Lastly, the protocol requires the ability to sample field elements randomly and pseudorandomly. To do this, the user supplies random bytes and the field logic turns them into a field element. The user should take care to provide enough random bytes."
      ],
      "metadata": {
        "id": "Je4EFK6SGloP"
      }
    },
    {
      "cell_type": "code",
      "source": [
        "    def sample( self, byte_array ):\n",
        "        acc = 0\n",
        "        for b in byte_array:\n",
        "            acc = (acc << 8) ^ int(b)\n",
        "        return FieldElement(acc % self.p, self)"
      ],
      "metadata": {
        "id": "xFVoAaQZGnxS"
      },
      "execution_count": 6,
      "outputs": []
    },
    {
      "cell_type": "markdown",
      "source": [
        "Univariate Polynomials\n",
        "\n",
        "A univariate polynomial is a weighted sum of non-negative powers of a single formal indeterminate. We write polynomials as a formal sum of terms, i.e: \n",
        "\n",
        "\n",
        "# f(X) = c₀ + c₁ ⋅ X + ⋯ + c_d Xᵈ\n",
        "## ∴\n",
        "# f(x) = ∑ᵢ₌₀ᵈ cᵢ Xⁱ\n",
        "\n",
        "\n",
        "Because: \n",
        "  1. The value of the indeterminate X is generally unknown  \n",
        "  2. This form emphasises the polynomial’s semantic origin and is thus more conducive to building intuition.\n",
        "In these expressions, the `cᵢ` are called coefficients and *d* represents the polynomial’s degree.\n",
        "\n",
        "**Univariate polynomials** are immensely useful in proof systems because relations that apply to their coefficient vectors extend to their values on a potentially much larger domain. If polynomials are equal, they are equal everywhere; whereas if they are unequal, they are unequal almost everywhere. By this feature, univariate polynomials reduce claims about large vectors to claims about the values of their corresponding polynomials in a small selection of sufficiently random points.\n",
        "\n",
        "An implementation of univariate polynomial algebra starts with overloading the standard arithmetic operators to compute the right function of the polynomials’ coefficient vectors. One important point requires special attention. It is impossible for the leading coefficient of a polynomial to be zero, since the leading coefficient means the coefficient of the highest-degree non-zero term.\n",
        "\n",
        "However, the implemented vector of coefficients might have trailing zeros, which should be ignored for all intents and purposes. The degree function comes in handy; it is defined here as one less than the length of the vector of coefficients after ignoring trailing zeros. This also means that the zero polynomial has degree −1\n",
        "even though −∞ makes more sense."
      ],
      "metadata": {
        "id": "3yAP9ei4GvkE"
      }
    },
    {
      "cell_type": "code",
      "source": [
        "from algebra import *\n",
        "\n",
        "class Polynomial:\n",
        "    def __init__( self, coefficients ):\n",
        "        self.coefficients = [c for c in coefficients]\n",
        "\n",
        "    def degree( self ):\n",
        "        if self.coefficients == []:\n",
        "            return -1\n",
        "        zero = self.coefficients[0].field.zero()\n",
        "        if self.coefficients == [zero] * len(self.coefficients):\n",
        "            return -1\n",
        "        maxindex = 0\n",
        "        for i in range(len(self.coefficients)):\n",
        "            if self.coefficients[i] != zero:\n",
        "                maxindex = i\n",
        "        return maxindex\n",
        "\n",
        "    def __neg__( self ):\n",
        "        return Polynomial([-c for c in self.coefficients])\n",
        "\n",
        "    def __add__( self, other ):\n",
        "        if self.degree() == -1:\n",
        "            return other\n",
        "        elif other.degree() == -1:\n",
        "            return self\n",
        "        field = self.coefficients[0].field\n",
        "        coeffs = [field.zero()] * max(len(self.coefficients), len(other.coefficients))\n",
        "        for i in range(len(self.coefficients)):\n",
        "            coeffs[i] = coeffs[i] + self.coefficients[i]\n",
        "        for i in range(len(other.coefficients)):\n",
        "            coeffs[i] = coeffs[i] + other.coefficients[i]\n",
        "        return Polynomial(coeffs)\n",
        "\n",
        "    def __sub__( self, other ):\n",
        "        return self.__add__(-other)\n",
        "\n",
        "    def __mul__(self, other ):\n",
        "        if self.coefficients == [] or other.coefficients == []:\n",
        "            return Polynomial([])\n",
        "        zero = self.coefficients[0].field.zero()\n",
        "        buf = [zero] * (len(self.coefficients) + len(other.coefficients) - 1)\n",
        "        for i in range(len(self.coefficients)):\n",
        "            if self.coefficients[i].is_zero():\n",
        "                continue # optimization for sparse polynomials\n",
        "            for j in range(len(other.coefficients)):\n",
        "                buf[i+j] = buf[i+j] + self.coefficients[i] * other.coefficients[j]\n",
        "        return Polynomial(buf)\n",
        "\n",
        "    def __eq__( self, other ):\n",
        "        if self.degree() != other.degree():\n",
        "            return False\n",
        "        if self.degree() == -1:\n",
        "            return True\n",
        "        return all(self.coefficients[i] == other.coefficients[i] for i in range(len(self.coefficients)))\n",
        "\n",
        "    def __neq__( self, other ):\n",
        "        return not self.__eq__(other)\n",
        "\n",
        "    def is_zero( self ):\n",
        "        if self.degree() == -1:\n",
        "            return True\n",
        "        return False\n",
        "\n",
        "    def leading_coefficient( self ):\n",
        "        return self.coefficients[self.degree()]\n"
      ],
      "metadata": {
        "id": "Kd7EJxJPG7mT"
      },
      "execution_count": 9,
      "outputs": []
    },
    {
      "cell_type": "markdown",
      "source": [
        "\n",
        "### *This always gets somewhat tricky when implementing division of polynomials.* \n",
        "#### The intuition behind the schoolbook algorithm is that in every iteration you multiply the dividend by the correct term so as to generate a cancellation of leading terms. Once no such term exists, you have your remainder.\n"
      ],
      "metadata": {
        "id": "x0Q3kvRFQoyA"
      }
    },
    {
      "cell_type": "code",
      "source": [],
      "metadata": {
        "id": "0DtqwfJ8ROTe"
      },
      "execution_count": null,
      "outputs": []
    }
  ]
}